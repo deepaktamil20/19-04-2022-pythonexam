attendee_name = ["hello","Dear","hOw","ARe","You"]
uppercase = []
for i in range(0,len(attendee_name)):
    s=attendee_name[i]
    if s[1].isupper():
        uppercase.append(s)
print(uppercase)
