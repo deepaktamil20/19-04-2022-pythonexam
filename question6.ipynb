list = ["santa Maria","Hello World","Merry christmas","tHank You"]
Uppercase1 =[]
Uppercase2=[]
for i in list:
    Uppercase1.append(i.split(' ')[0])
    Uppercase1.append(i.split(' ')[1])
for i in Uppercase1:
    if i[0].isupper():
        Uppercase2.append(i)
print(Uppercase2)
