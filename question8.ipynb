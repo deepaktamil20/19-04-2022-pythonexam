import itertools as it
average=[9,8,7,6,5]
list1=[]
list1= it.accumulate(list(enumerate(average)), lambda x,y: (y[0],(x[1]*(x[0]+1)+ y[1])/(y[0]+1)))
print(list(map(lambda x: x[1],list1)))
